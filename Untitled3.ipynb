{
 "cells": [
  {
   "cell_type": "code",
   "execution_count": 5,
   "id": "99ebc8e9-484e-474a-9a28-976a78bf9863",
   "metadata": {},
   "outputs": [
    {
     "name": "stdout",
     "output_type": "stream",
     "text": [
      "hello\n"
     ]
    }
   ],
   "source": [
    "print(\"hello\")"
   ]
  },
  {
   "cell_type": "code",
   "execution_count": 7,
   "id": "c0d2b27f-f1cb-451b-a78a-7c977a718dda",
   "metadata": {},
   "outputs": [
    {
     "name": "stdout",
     "output_type": "stream",
     "text": [
      "<class 'int'>\n"
     ]
    }
   ],
   "source": [
    "age = 44\n",
    "print(type(age))\n"
   ]
  },
  {
   "cell_type": "code",
   "execution_count": 9,
   "id": "26eb6b1e-b8a4-46b5-a936-c8639e03aa2d",
   "metadata": {
    "jupyter": {
     "source_hidden": true
    }
   },
   "outputs": [
    {
     "name": "stdout",
     "output_type": "stream",
     "text": [
      "<class 'bool'>\n"
     ]
    }
   ],
   "source": [
    "is_true = False\n",
    "print(type(is_true))"
   ]
  },
  {
   "cell_type": "code",
   "execution_count": 11,
   "id": "9e9c48a8-a7ae-44a6-810d-8835343788bb",
   "metadata": {},
   "outputs": [
    {
     "name": "stdout",
     "output_type": "stream",
     "text": [
      "<class 'float'>\n"
     ]
    }
   ],
   "source": [
    "value = 3.455\n",
    "print(type(value))"
   ]
  },
  {
   "cell_type": "markdown",
   "id": "97ee2fe3-9738-4508-a4ef-530ad9750478",
   "metadata": {},
   "source": [
    "first_name = \"enoch\"\n",
    "last_name = \"ejeh\"\n",
    "\n",
    "print(\"welcome back\"    + \" \" +    first_name + \" \" +    last_name)"
   ]
  },
  {
   "cell_type": "code",
   "execution_count": null,
   "id": "9df166bb-6def-4d4d-8efa-d75f228a1aef",
   "metadata": {},
   "outputs": [],
   "source": []
  }
 ],
 "metadata": {
  "kernelspec": {
   "display_name": "Python 3 (ipykernel)",
   "language": "python",
   "name": "python3"
  },
  "language_info": {
   "codemirror_mode": {
    "name": "ipython",
    "version": 3
   },
   "file_extension": ".py",
   "mimetype": "text/x-python",
   "name": "python",
   "nbconvert_exporter": "python",
   "pygments_lexer": "ipython3",
   "version": "3.12.7"
  }
 },
 "nbformat": 4,
 "nbformat_minor": 5
}
